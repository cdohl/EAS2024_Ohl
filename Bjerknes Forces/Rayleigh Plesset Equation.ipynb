{
 "cells": [
  {
   "cell_type": "markdown",
   "id": "8000d041",
   "metadata": {},
   "source": [
    "### Rayleigh-Plesset Equation\n",
    "\n",
    "$$R\\frac{d^2 R}{dt^2}+\\frac{3}{2}\\left(\\frac{dR}{dt}\\right)^2=-\\frac{\\Delta P(t)}{\\rho}-\\frac{2\\sigma}{\\rho R}-\\frac{4\\nu}{R}\\frac{dR}{dt}\\tag{1}$$\n",
    "\n",
    "To solve the equation we need to specify $\\Delta P$, which is pressure difference between gas in bubble $p_g$ and the pressure far from bubble $p_\\infty$:\n",
    "\n",
    "$$\\Delta P =p_\\infty(t) - p_g(t)\\tag{2}$$\n",
    "\n",
    "The pressure far from the bubble is a static presssure $p_0$ plus an acoustic pressure with amplitude $p_a$:\n",
    "\n",
    "$$p_\\infty(t) = p_0+p_a\\sin(2 \\pi f t)\\tag{3}$$\n",
    "\n",
    "This harmonic acoustic pressure is driving the bubble.\n",
    "\n",
    "For the pressure in the bubble we use the ideal gas law with the polytropic exponent $\\kappa$:\n",
    "\n",
    "$$p_g(t) V(t)^\\kappa=p_{g,0} V_0^\\kappa\\tag{4}$$\n",
    "\n",
    "The pressure of the bubble $R=R_0$ at rest $p_{g,0}$ needs to account for the Laplace pressure:\n",
    "$$p_{g,0}=p_0+\\frac{2\\sigma}{R_0}\\tag{5}$$\n",
    "\n",
    "\n",
    "Thus we obtain for the gas pressure:\n",
    "$$p_g(t)=\\left(p_0+\\frac{2\\sigma}{R_0}\\right)\\left(\\frac{R_0}{R(t)}\\right)^{3\\kappa}\\tag{6}$$\n"
   ]
  },
  {
   "cell_type": "code",
   "execution_count": 141,
   "id": "d7ad5494",
   "metadata": {},
   "outputs": [
    {
     "data": {
      "image/png": "[encoded data removed]",
      "text/plain": [
       "<Figure size 432x288 with 1 Axes>"
      ]
     },
     "metadata": {
      "needs_background": "light"
     },
     "output_type": "display_data"
    }
   ],
   "source": [
    "%matplotlib inline \n",
    "\n",
    "import matplotlib.pyplot as plt\n",
    "from scipy.integrate import odeint\n",
    "import numpy as np \n",
    "import matplotlib as mpl\n",
    "mpl.rcParams['font.size'] = 15\n",
    "\n",
    "\n",
    "#Rayleigh Plesset Equation\n",
    "def rp(y,t):\n",
    "    R=y[0]\n",
    "    U=y[1]\n",
    "    pinfty = p0+pa*np.sin(2*np.pi*f*t)   #Eq. (3)\n",
    "    pg0 = p0+2.*sigma/R0     #Eq. (5)\n",
    "    pg=pg0*(R0/R)**(3*kappa) #Eq. (6)\n",
    "    Deltap=pinfty-pg #Eq. (2)\n",
    "\n",
    "    dydt0 = y[1]         \n",
    "    dydt1 = 1./R*(-Deltap/rho-4.*nu*U/R-2.*sigma/rho/R-1.5*U*U) #Eq. (1) solved for d2R/dt2\n",
    "\n",
    "    return [dydt0,dydt1]\n",
    "\n",
    "p0=1e5            # ambient pressure [Pa]\n",
    "rho=1e3           # density of the liquid [kg/m^3]\n",
    "R0=3e-6\n",
    "nu=1e-6           # kinematic viscosity [m^2/s]\n",
    "sigma=0.072       # surface tension [N/m]\n",
    "kappa=1.          # polytropic exponent [ ]\n",
    "f=1e6             # frequency of driving [1/s]\n",
    "pa=1e4            # acoustic pressure [Pa]\n",
    "\n",
    "y0=[R0,0.]\n",
    "t_final = 5./f\n",
    "\n",
    "# Times for the solution\n",
    "t = np.linspace(t0, t_final, 10000)\n",
    "\n",
    "sol=odeint(rp, y0, t,h0=1./f/10000.)\n",
    "R1=sol[:, 0]\n",
    "\n",
    "plt.plot(t*f,R1/R0)\n",
    "ax=plt.gca()\n",
    "ax.set_xlabel(r'time (1/f)')\n",
    "ax.set_ylabel(r'R ($R_0$)');\n"
   ]
  },
  {
   "cell_type": "markdown",
   "id": "c98cf8f1",
   "metadata": {},
   "source": [
    "### Questions:\n",
    "\n",
    "* How many cylces do you need before the bubble oscillates periodically with a constant amplitude?\n",
    "\n",
    "* How to reduce this transient time? Demonstrate in a plot.\n",
    "\n",
    "* Plot the radius time curve in the sonoluminescence regime where $R_0\\approx 3\\,\\mu$m and $f\\approx 20\\,$kHz.\n"
   ]
  },
  {
   "cell_type": "markdown",
   "id": "3843c76d",
   "metadata": {},
   "source": [
    "### Resonane curve\n",
    "\n",
    "Next we plot for a specific range of $R_0$ the amplitude of the bubble pulsation. \n"
   ]
  },
  {
   "cell_type": "code",
   "execution_count": 143,
   "id": "5593917e",
   "metadata": {},
   "outputs": [],
   "source": [
    "p0=1e5            # ambient pressure [Pa]\n",
    "rho=1e3           # density of the liquid [kg/m^3]\n",
    "R0=3e-6\n",
    "nu=5e-6           # kinematic viscosity [m^2/s]\n",
    "sigma=0.072       # surface tension [N/m]\n",
    "kappa=1.          # polytropic exponent [ ]\n",
    "f=1e6             # frequency of driving [1/s]\n",
    "pa=1e4            # acoustic pressure [Pa]\n",
    "\n",
    "t0=0.             #start time\n",
    "t_final = 100./f  # solve for 100 cylces\n",
    "\n",
    "\n",
    "R0s=np.linspace(1e-6,10e-6,101) #R0s are equilibrium radii to loop over\n",
    "Rmax=np.copy(R0s) #storage vector for the maximum radii\n",
    "\n",
    "npoints=1000000\n",
    "\n",
    "for idx, R0 in enumerate(R0s):\n",
    "    # Initial condition\n",
    "    y0=[R0,0.]\n",
    "\n",
    "    # Times for the solution\n",
    "    t = np.linspace(t0, t_final, npoints)\n",
    "\n",
    "    sol=odeint(rp, y0, t,h0=1./f/10000.)\n",
    "    R1=sol[-int(npoints/10):, 0]\n",
    "    Rmax[idx]=R1.max()\n"
   ]
  },
  {
   "cell_type": "markdown",
   "id": "e50fa1d4",
   "metadata": {},
   "source": [
    "The resonance radius $R_{res}$ in absence of damping in the linear regime is given through the following formula:\n",
    "\n",
    "$$2\\pi f=\\left(\\frac{3\\kappa p_0}{\\rho R_{res}^2}+\\frac{3(3\\kappa-1)\\sigma}{\\rho R_{res}^3}\\right)^{1/2}\\tag{7}$$\n",
    "\n",
    "\n",
    "For details please consult the excellent online book [\"Cavitation Bubble Dynamics\" from Chris Brennen](https://media.library.caltech.edu/CaltechBOOK:1995.001/chap4.htm).\n",
    "\n",
    "Equation (7) can be solved with a numerical root finder or analytically with Cardano's equations."
   ]
  },
  {
   "cell_type": "code",
   "execution_count": 142,
   "id": "319adac2",
   "metadata": {},
   "outputs": [
    {
     "name": "stdout",
     "output_type": "stream",
     "text": [
      "Resonance radius 3.15e-06 m\n"
     ]
    }
   ],
   "source": [
    "omega_r=2.*np.pi*f\n",
    "l=np.roots([omega_r**2.,0,-3.*kappa*p0/rho,-2.*(3.*kappa-1.)*sigma/rho])\n",
    "Rres=np.real(l[np.isreal(l)][0])\n",
    "print('Resonance radius {:5.3g} m'.format(Rres))"
   ]
  },
  {
   "cell_type": "markdown",
   "id": "7445aa2e",
   "metadata": {},
   "source": [
    "Next we plot the amplitude response as a function of the equilibrium radius $R_0$. The amplitude response is written as\n",
    "$$ \\frac{R_{max}-R_0}{R_0}\\quad ,$$ which is 0 when the bubble does not oscillate."
   ]
  },
  {
   "cell_type": "code",
   "execution_count": 144,
   "id": "30722fcf",
   "metadata": {},
   "outputs": [
    {
     "data": {
      "image/png": "[encoded data removed]",
      "text/plain": [
       "<Figure size 432x288 with 1 Axes>"
      ]
     },
     "metadata": {
      "needs_background": "light"
     },
     "output_type": "display_data"
    }
   ],
   "source": [
    "plt.plot(R0s/Rres,(Rmax-R0s)/R0s)\n",
    "plt.axvline(x=1)\n",
    "ax=plt.gca()\n",
    "ax.set_ylabel(r'$\\frac{R_{max}-R_0}{R_0}$')\n",
    "ax.set_xlabel(r'$R/R_{res}$');"
   ]
  },
  {
   "cell_type": "markdown",
   "id": "92d6cbff",
   "metadata": {},
   "source": [
    "### Questions:\n",
    "\n",
    "* What happens to the curve when the viscosity is increased? Calculate and explain qualitatively.\n",
    "* Increase the pressure to 1.5bar. What happens? Why?\n",
    "* Plot the amplitude response as a function of the frequency.\n",
    "\n",
    "\n",
    "*Further reading material:*\n",
    "\n",
    "[1] Werner Lauterborn and Thomas Kurz 2010 Rep. Prog. Phys. 73 106501 [link.](https://iopscience.iop.org/article/10.1088/0034-4885/73/10/106501)\n",
    "\n",
    "[2] The Acoustic Bubble by Timothey Leighton 1994. [link](https://www.sciencedirect.com/book/9780124419209/the-acoustic-bubble#book-description)\n",
    "\n",
    "[3] Brennen, Christopher Earls. 1995. Cavitation and Bubble Dynamics (version Public). New York: Oxford University Press. [link](https://media.library.caltech.edu/CaltechBOOK:1995.001/chap4.htm)."
   ]
  },
  {
   "cell_type": "code",
   "execution_count": null,
   "id": "53a704c0",
   "metadata": {},
   "outputs": [],
   "source": []
  }
 ],
 "metadata": {
  "kernelspec": {
   "display_name": "Python 3 (ipykernel)",
   "language": "python",
   "name": "python3"
  },
  "language_info": {
   "codemirror_mode": {
    "name": "ipython",
    "version": 3
   },
   "file_extension": ".py",
   "mimetype": "text/x-python",
   "name": "python",
   "nbconvert_exporter": "python",
   "pygments_lexer": "ipython3",
   "version": "3.9.12"
  }
 },
 "nbformat": 4,
 "nbformat_minor": 5
}
